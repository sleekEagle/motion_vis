{
 "cells": [
  {
   "cell_type": "code",
   "execution_count": 143,
   "id": "887f89eb",
   "metadata": {},
   "outputs": [],
   "source": [
    "import torch\n",
    "import torch.nn as nn\n",
    "from IPython.display import display, Math, Latex\n",
    "\n",
    "class Layer1(nn.Module):\n",
    "    def __init__(self):\n",
    "        super(Layer1, self).__init__()\n",
    "\n",
    "    def forward(self, t):\n",
    "        out = 2*t**2\n",
    "        return out\n",
    "    \n",
    "class Layer2(nn.Module):\n",
    "    def __init__(self):\n",
    "        super(Layer2, self).__init__()\n",
    "        self.param = nn.Parameter(torch.tensor(2,dtype=torch.float32),requires_grad=True) \n",
    "\n",
    "    def forward(self, t):\n",
    "        out = (self.param * t)**3\n",
    "        return out.sum()\n",
    "    \n",
    "class model(nn.Module):\n",
    "    def __init__(self):\n",
    "        super(model, self).__init__()\n",
    "        self.layer1 = Layer1()\n",
    "        self.layer2 = Layer2()\n",
    "\n",
    "        \n",
    "        self.layer1.register_forward_hook(self.save_activations)\n",
    "        self.layer1.register_backward_hook(self.save_gradients)\n",
    "\n",
    "    def save_activations(self, module, input, output):\n",
    "        self.activations = output\n",
    "\n",
    "    def save_gradients(self, module, grad_in, grad_out):\n",
    "        self.gradients = grad_out\n",
    "\n",
    "    def forward(self, t):\n",
    "        out = self.layer1(t)\n",
    "        out = self.layer2(out)\n",
    "        return out\n",
    "\n",
    "model = model()  "
   ]
  },
  {
   "cell_type": "code",
   "execution_count": 161,
   "id": "8f070796",
   "metadata": {},
   "outputs": [
    {
     "name": "stdout",
     "output_type": "stream",
     "text": [
      "output: 266240.0\n",
      "grad P: 399360.0\n",
      "grad A: tensor([ 1536., 24576.], grad_fn=<MulBackward0>)\n"
     ]
    }
   ],
   "source": [
    "t = torch.tensor([2,4], dtype=torch.float32, requires_grad=True)\n",
    "A = 2*t**2\n",
    "P = 2\n",
    "\n",
    "print(f'output: {((P*A)**3).sum()}')\n",
    "print(f'grad P: {(3*A**3*P**2).sum()}')\n",
    "print(f'grad A: {(3*P**3*A**2)}')"
   ]
  },
  {
   "cell_type": "code",
   "execution_count": 162,
   "id": "f72b6dc4",
   "metadata": {},
   "outputs": [
    {
     "data": {
      "text/latex": [
       "$\\displaystyle t = [2,4]$"
      ],
      "text/plain": [
       "<IPython.core.display.Math object>"
      ]
     },
     "metadata": {},
     "output_type": "display_data"
    },
    {
     "data": {
      "text/latex": [
       "$\\displaystyle 2t^2$"
      ],
      "text/plain": [
       "<IPython.core.display.Math object>"
      ]
     },
     "metadata": {},
     "output_type": "display_data"
    },
    {
     "data": {
      "text/latex": [
       "$\\displaystyle Z = (PA)^3 = 266240.0$"
      ],
      "text/plain": [
       "<IPython.core.display.Math object>"
      ]
     },
     "metadata": {},
     "output_type": "display_data"
    },
    {
     "name": "stdout",
     "output_type": "stream",
     "text": [
      "Where A = 2t^2\n"
     ]
    },
    {
     "data": {
      "text/latex": [
       "$\\displaystyle \\frac{dZ}{dA} = 3P^3A^2 = [ 1536., 24576.]$"
      ],
      "text/plain": [
       "<IPython.core.display.Math object>"
      ]
     },
     "metadata": {},
     "output_type": "display_data"
    },
    {
     "data": {
      "text/latex": [
       "$\\displaystyle \\frac{dZ}{dP} = 3A^3P^2 = 399360.0$"
      ],
      "text/plain": [
       "<IPython.core.display.Math object>"
      ]
     },
     "metadata": {},
     "output_type": "display_data"
    }
   ],
   "source": [
    "## Output from layer1\n",
    "display(Math(r't = [2,4]'))\n",
    "\n",
    "display(Math(r'2t^2'))\n",
    "display(Math(r'Z = (PA)^3 = 266240.0'))\n",
    "print('Where A = 2t^2')\n",
    "display(Math(r'\\frac{dZ}{dA} = 3P^3A^2 = [ 1536., 24576.]'))\n",
    "display(Math(r'\\frac{dZ}{dP} = 3A^3P^2 = 399360.0'))\n",
    "\n"
   ]
  },
  {
   "cell_type": "code",
   "execution_count": 163,
   "id": "139f2a08",
   "metadata": {},
   "outputs": [
    {
     "name": "stdout",
     "output_type": "stream",
     "text": [
      "Output: 266240.0\n"
     ]
    },
    {
     "name": "stderr",
     "output_type": "stream",
     "text": [
      "c:\\Users\\lahir\\miniconda3\\envs\\visualize\\Lib\\site-packages\\torch\\nn\\modules\\module.py:1864: FutureWarning: Using a non-full backward hook when the forward contains multiple autograd Nodes is deprecated and will be removed in future versions. This hook will be missing some grad_input. Please use register_full_backward_hook to get the documented behavior.\n",
      "  self._maybe_warn_non_full_backward_hook(args, result, grad_fn)\n"
     ]
    }
   ],
   "source": [
    "t = torch.tensor([2,4], dtype=torch.float32, requires_grad=True)\n",
    "output = model(t)\n",
    "\n",
    "model.zero_grad()\n",
    "output.backward()\n",
    "print(f'Output: {output.item()}')"
   ]
  },
  {
   "cell_type": "code",
   "execution_count": 164,
   "id": "885bfafa",
   "metadata": {},
   "outputs": [
    {
     "name": "stdout",
     "output_type": "stream",
     "text": [
      "activations: tensor([ 8., 32.], grad_fn=<MulBackward0>) gradients: (tensor([ 1536., 24576.]),)\n",
      "param grad: 399360.0\n"
     ]
    }
   ],
   "source": [
    "activations = model.activations\n",
    "gradients = model.gradients \n",
    "print(f'activations: {activations} gradients: {gradients}')\n",
    "print(f'param grad: {model.layer2.param.grad}')"
   ]
  }
 ],
 "metadata": {
  "kernelspec": {
   "display_name": "visualize",
   "language": "python",
   "name": "python3"
  },
  "language_info": {
   "codemirror_mode": {
    "name": "ipython",
    "version": 3
   },
   "file_extension": ".py",
   "mimetype": "text/x-python",
   "name": "python",
   "nbconvert_exporter": "python",
   "pygments_lexer": "ipython3",
   "version": "3.12.11"
  }
 },
 "nbformat": 4,
 "nbformat_minor": 5
}
