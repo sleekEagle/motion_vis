{
 "cells": [
  {
   "cell_type": "code",
   "execution_count": 136,
   "id": "887f89eb",
   "metadata": {},
   "outputs": [],
   "source": [
    "import torch\n",
    "import torch.nn as nn\n",
    "from IPython.display import display, Math, Latex\n",
    "\n",
    "class Layer1(nn.Module):\n",
    "    def __init__(self):\n",
    "        super(Layer1, self).__init__()\n",
    "\n",
    "    def forward(self, t):\n",
    "        out = 2*t**2\n",
    "        return out\n",
    "    \n",
    "class Layer2(nn.Module):\n",
    "    def __init__(self):\n",
    "        super(Layer2, self).__init__()\n",
    "        self.param = nn.Parameter(torch.tensor(2,dtype=torch.float32),requires_grad=True) \n",
    "\n",
    "    def forward(self, t):\n",
    "        out = (self.param * t)**3\n",
    "        return out.sum()\n",
    "    \n",
    "class model(nn.Module):\n",
    "    def __init__(self):\n",
    "        super(model, self).__init__()\n",
    "        self.layer1 = Layer1()\n",
    "        self.layer2 = Layer2()\n",
    "\n",
    "        \n",
    "        self.layer1.register_forward_hook(self.save_activations)\n",
    "        self.layer1.register_backward_hook(self.save_gradients)\n",
    "\n",
    "    def save_activations(self, module, input, output):\n",
    "        self.activations = output\n",
    "\n",
    "    def save_gradients(self, module, grad_in, grad_out):\n",
    "        self.gradients = grad_out\n",
    "\n",
    "    def forward(self, t):\n",
    "        out = self.layer1(t)\n",
    "        out = self.layer2(out)\n",
    "        return out\n",
    "\n",
    "model = model()  "
   ]
  },
  {
   "cell_type": "code",
   "execution_count": null,
   "id": "516de33e",
   "metadata": {},
   "outputs": [
    {
     "name": "stdout",
     "output_type": "stream",
     "text": [
      "tensor(266240., grad_fn=<SumBackward0>)\n",
      "tensor(399360., grad_fn=<SumBackward0>)\n"
     ]
    }
   ],
   "source": [
    "t=torch.tensor([2,4], dtype=torch.float32, requires_grad=True)\n",
    "p=2\n",
    "print((8*p**3*t**6).sum())\n",
    "print((24*t**6*p**2).sum())"
   ]
  },
  {
   "cell_type": "code",
   "execution_count": null,
   "id": "f72b6dc4",
   "metadata": {},
   "outputs": [
    {
     "data": {
      "text/latex": [
       "$\\displaystyle t = [2,4]$"
      ],
      "text/plain": [
       "<IPython.core.display.Math object>"
      ]
     },
     "metadata": {},
     "output_type": "display_data"
    },
    {
     "name": "stdout",
     "output_type": "stream",
     "text": [
      "layer 1:\n"
     ]
    },
    {
     "data": {
      "text/latex": [
       "$\\displaystyle 2t^2$"
      ],
      "text/plain": [
       "<IPython.core.display.Math object>"
      ]
     },
     "metadata": {},
     "output_type": "display_data"
    },
    {
     "data": {
      "text/latex": [
       "$\\displaystyle Z = 27A^3$"
      ],
      "text/plain": [
       "<IPython.core.display.Math object>"
      ]
     },
     "metadata": {},
     "output_type": "display_data"
    },
    {
     "name": "stdout",
     "output_type": "stream",
     "text": [
      "Where A = 2t^2\n",
      "layer 2:\n"
     ]
    },
    {
     "data": {
      "text/latex": [
       "$\\displaystyle (P*(2t_0)^2)^3 + (P*(2t_1)^2)^3$"
      ],
      "text/plain": [
       "<IPython.core.display.Math object>"
      ]
     },
     "metadata": {},
     "output_type": "display_data"
    },
    {
     "data": {
      "text/latex": [
       "$\\displaystyle Z = (P*(2t_0)^2)^3 + (P*(2t_1)^2)^3 = 266240$"
      ],
      "text/plain": [
       "<IPython.core.display.Math object>"
      ]
     },
     "metadata": {},
     "output_type": "display_data"
    },
    {
     "data": {
      "text/latex": [
       "$\\displaystyle \\frac{dZ}{dP} = 24t_0^6P^2 + 24t_1^6P^2 = 399360$"
      ],
      "text/plain": [
       "<IPython.core.display.Math object>"
      ]
     },
     "metadata": {},
     "output_type": "display_data"
    }
   ],
   "source": [
    "## Output from layer1\n",
    "display(Math(r't = [2,4]'))\n",
    "\n",
    "print('layer 1:')\n",
    "display(Math(r'2t^2'))\n",
    "display(Math(r'Z = 27A^3'))\n",
    "print('Where A = 2t^2')\n",
    "display(Math(r'\\frac{dZ}{dA} = 81A^2'))\n",
    "\n",
    "\n",
    "print('layer 2:')\n",
    "display(Math(r'(P*(2t_0)^2)^3 + (P*(2t_1)^2)^3'))\n",
    "display(Math(r'Z = (P*(2t_0)^2)^3 + (P*(2t_1)^2)^3 = 266240'))\n",
    "\n",
    "display(Math(r'\\frac{dZ}{dP} = 24t_0^6P^2 + 24t_1^6P^2 = 399360'))\n"
   ]
  },
  {
   "cell_type": "code",
   "execution_count": 133,
   "id": "139f2a08",
   "metadata": {},
   "outputs": [
    {
     "name": "stdout",
     "output_type": "stream",
     "text": [
      "Output: 266240.0\n"
     ]
    }
   ],
   "source": [
    "t = torch.tensor([2,4], dtype=torch.float32, requires_grad=True)\n",
    "output = model(t)\n",
    "\n",
    "model.zero_grad()\n",
    "output.backward()\n",
    "print(f'Output: {output.item()}')"
   ]
  },
  {
   "cell_type": "code",
   "execution_count": 134,
   "id": "885bfafa",
   "metadata": {},
   "outputs": [
    {
     "name": "stdout",
     "output_type": "stream",
     "text": [
      "activations: 266240.0 gradients: (tensor(1.),)\n",
      "param grad: 399360.0\n"
     ]
    }
   ],
   "source": [
    "activations = model.activations\n",
    "gradients = model.gradients \n",
    "print(f'activations: {activations} gradients: {gradients}')\n",
    "print(f'param grad: {model.layer2.param.grad}')"
   ]
  },
  {
   "cell_type": "code",
   "execution_count": 36,
   "id": "dddc5bef",
   "metadata": {},
   "outputs": [
    {
     "data": {
      "text/latex": [
       "$\\displaystyle E = mc^2$"
      ],
      "text/plain": [
       "<IPython.core.display.Math object>"
      ]
     },
     "metadata": {},
     "output_type": "display_data"
    }
   ],
   "source": [
    "from IPython.display import display, Math, Latex\n",
    "display(Math(r'E = mc^2'))\n"
   ]
  },
  {
   "cell_type": "code",
   "execution_count": 75,
   "id": "1692d61e",
   "metadata": {},
   "outputs": [
    {
     "data": {
      "text/plain": [
       "36864"
      ]
     },
     "execution_count": 75,
     "metadata": {},
     "output_type": "execute_result"
    }
   ],
   "source": [
    "9*4**3*8**2"
   ]
  }
 ],
 "metadata": {
  "kernelspec": {
   "display_name": "visualize",
   "language": "python",
   "name": "python3"
  },
  "language_info": {
   "codemirror_mode": {
    "name": "ipython",
    "version": 3
   },
   "file_extension": ".py",
   "mimetype": "text/x-python",
   "name": "python",
   "nbconvert_exporter": "python",
   "pygments_lexer": "ipython3",
   "version": "3.12.11"
  }
 },
 "nbformat": 4,
 "nbformat_minor": 5
}
